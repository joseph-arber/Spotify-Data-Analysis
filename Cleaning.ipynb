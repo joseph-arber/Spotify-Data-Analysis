{
 "cells": [
  {
   "cell_type": "code",
   "execution_count": 2,
   "metadata": {},
   "outputs": [],
   "source": [
    "import pandas as pd \n",
    "import numpy as np \n",
    "import json "
   ]
  },
  {
   "cell_type": "code",
   "execution_count": null,
   "metadata": {},
   "outputs": [],
   "source": [
    "Data/MyData/Follow.json"
   ]
  },
  {
   "cell_type": "code",
   "execution_count": 5,
   "metadata": {},
   "outputs": [
    {
     "data": {
      "text/plain": [
       "{'identifierType': 'email', 'identifierValue': 'joearber@hotmail.com'}"
      ]
     },
     "execution_count": 5,
     "metadata": {},
     "output_type": "execute_result"
    }
   ],
   "source": [
    "# Opening JSON file\n",
    "f = open('Data/MyData/Identifiers.json')\n",
    "  \n",
    "# returns JSON object as \n",
    "# a dictionary\n",
    "data = json.load(f)\n",
    "data "
   ]
  },
  {
   "cell_type": "code",
   "execution_count": 8,
   "metadata": {},
   "outputs": [
    {
     "data": {
      "text/html": [
       "<div>\n",
       "<style scoped>\n",
       "    .dataframe tbody tr th:only-of-type {\n",
       "        vertical-align: middle;\n",
       "    }\n",
       "\n",
       "    .dataframe tbody tr th {\n",
       "        vertical-align: top;\n",
       "    }\n",
       "\n",
       "    .dataframe thead th {\n",
       "        text-align: right;\n",
       "    }\n",
       "</style>\n",
       "<table border=\"1\" class=\"dataframe\">\n",
       "  <thead>\n",
       "    <tr style=\"text-align: right;\">\n",
       "      <th></th>\n",
       "      <th>endTime</th>\n",
       "      <th>artistName</th>\n",
       "      <th>trackName</th>\n",
       "      <th>msPlayed</th>\n",
       "      <th>UniqueID</th>\n",
       "    </tr>\n",
       "  </thead>\n",
       "  <tbody>\n",
       "    <tr>\n",
       "      <th>0</th>\n",
       "      <td>2021-12-01 09:47</td>\n",
       "      <td>Pa Salieu</td>\n",
       "      <td>Energy (feat. Mahalia)</td>\n",
       "      <td>120106</td>\n",
       "      <td>Pa Salieu:Energy (feat. Mahalia)</td>\n",
       "    </tr>\n",
       "    <tr>\n",
       "      <th>1</th>\n",
       "      <td>2021-12-01 10:22</td>\n",
       "      <td>Peter von Poehl</td>\n",
       "      <td>The Story of the Impossible</td>\n",
       "      <td>2450</td>\n",
       "      <td>Peter von Poehl:The Story of the Impossible</td>\n",
       "    </tr>\n",
       "    <tr>\n",
       "      <th>2</th>\n",
       "      <td>2021-12-01 10:23</td>\n",
       "      <td>21 Savage</td>\n",
       "      <td>Intro</td>\n",
       "      <td>70044</td>\n",
       "      <td>21 Savage:Intro</td>\n",
       "    </tr>\n",
       "    <tr>\n",
       "      <th>3</th>\n",
       "      <td>2021-12-01 10:24</td>\n",
       "      <td>21 Savage</td>\n",
       "      <td>Runnin</td>\n",
       "      <td>46705</td>\n",
       "      <td>21 Savage:Runnin</td>\n",
       "    </tr>\n",
       "    <tr>\n",
       "      <th>4</th>\n",
       "      <td>2021-12-01 10:25</td>\n",
       "      <td>21 Savage</td>\n",
       "      <td>Intro</td>\n",
       "      <td>70044</td>\n",
       "      <td>21 Savage:Intro</td>\n",
       "    </tr>\n",
       "  </tbody>\n",
       "</table>\n",
       "</div>"
      ],
      "text/plain": [
       "            endTime       artistName                    trackName  msPlayed  \\\n",
       "0  2021-12-01 09:47        Pa Salieu       Energy (feat. Mahalia)    120106   \n",
       "1  2021-12-01 10:22  Peter von Poehl  The Story of the Impossible      2450   \n",
       "2  2021-12-01 10:23        21 Savage                        Intro     70044   \n",
       "3  2021-12-01 10:24        21 Savage                       Runnin     46705   \n",
       "4  2021-12-01 10:25        21 Savage                        Intro     70044   \n",
       "\n",
       "                                      UniqueID  \n",
       "0             Pa Salieu:Energy (feat. Mahalia)  \n",
       "1  Peter von Poehl:The Story of the Impossible  \n",
       "2                              21 Savage:Intro  \n",
       "3                             21 Savage:Runnin  \n",
       "4                              21 Savage:Intro  "
      ]
     },
     "execution_count": 8,
     "metadata": {},
     "output_type": "execute_result"
    }
   ],
   "source": [
    "path = \"Data/MyData/\"\n",
    "\n",
    "# read your 1+ StreamingHistory files (depending on how extensive your streaming history is) into pandas dataframes\n",
    "df_stream0 = pd.read_json('Data/MyData/StreamingHistory0.json')\n",
    "df_stream1 = pd.read_json('Data/MyData/streamingHistory1.json')\n",
    "df_stream2 = pd.read_json('Data/MyData/streamingHistory2.json')\n",
    "\n",
    "# merge streaming dataframes\n",
    "df_stream = pd.concat([df_stream0, df_stream1, df_stream2])\n",
    "\n",
    "# create a 'UniqueID' for each song by combining the fields 'artistName' and 'trackName'\n",
    "df_stream['UniqueID'] = df_stream['artistName'] + \":\" + df_stream['trackName']\n",
    "\n",
    "df_stream.head()"
   ]
  },
  {
   "cell_type": "code",
   "execution_count": null,
   "metadata": {},
   "outputs": [],
   "source": []
  }
 ],
 "metadata": {
  "kernelspec": {
   "display_name": "Python 3.8.5 ('spotify-env': venv)",
   "language": "python",
   "name": "python3"
  },
  "language_info": {
   "codemirror_mode": {
    "name": "ipython",
    "version": 3
   },
   "file_extension": ".py",
   "mimetype": "text/x-python",
   "name": "python",
   "nbconvert_exporter": "python",
   "pygments_lexer": "ipython3",
   "version": "3.8.5"
  },
  "orig_nbformat": 4,
  "vscode": {
   "interpreter": {
    "hash": "614032928a8829e314ec314d4d227c59fcce9317ea1abacb7bc2cfe1c38fbb1f"
   }
  }
 },
 "nbformat": 4,
 "nbformat_minor": 2
}
